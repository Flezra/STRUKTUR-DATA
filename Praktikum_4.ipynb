{
  "nbformat": 4,
  "nbformat_minor": 0,
  "metadata": {
    "colab": {
      "provenance": [],
      "authorship_tag": "ABX9TyMIu4NG9qhzdrTQ+ONqwamF",
      "include_colab_link": true
    },
    "kernelspec": {
      "name": "python3",
      "display_name": "Python 3"
    },
    "language_info": {
      "name": "python"
    }
  },
  "cells": [
    {
      "cell_type": "markdown",
      "metadata": {
        "id": "view-in-github",
        "colab_type": "text"
      },
      "source": [
        "<a href=\"https://colab.research.google.com/github/Flezra/STRUKTUR-DATA/blob/main/Praktikum_4.ipynb\" target=\"_parent\"><img src=\"https://colab.research.google.com/assets/colab-badge.svg\" alt=\"Open In Colab\"/></a>"
      ]
    },
    {
      "cell_type": "code",
      "execution_count": 5,
      "metadata": {
        "colab": {
          "base_uri": "https://localhost:8080/"
        },
        "id": "NDBS18B-ZyFj",
        "outputId": "b7d24abc-9a18-4ec0-97b7-6e327fb9b05d"
      },
      "outputs": [
        {
          "output_type": "stream",
          "name": "stdout",
          "text": [
            "\"The quick brown fox jumps over the little lazy dog\"\n",
            "\n",
            "is a pangram\n"
          ]
        }
      ],
      "source": [
        "# A Python Program to check if the given\n",
        "# string is a pangram or not\n",
        "def checkPangram(s):\n",
        " List = []\n",
        "# create list of 26 characters and set false each entry\n",
        " for i in range(26): List.append(False)\n",
        " # converting the sentence to lowercase and iterating\n",
        " # over the sentence\n",
        " for c in s.lower():\n",
        "    if not c == \" \":\n",
        " # make the corresponding entry True\n",
        "      List[ord(c) - ord('a')] = True\n",
        " # check if any character is missing then return False\n",
        " for ch in List:\n",
        "  if ch == False:\n",
        "    return False\n",
        " return True\n",
        "# Driver Program to test above functions\n",
        "sentence = \"The quick brown fox jumps over the little lazy dog\"\n",
        "if (checkPangram(sentence)):\n",
        " print('\"'+sentence+'\"')\n",
        " print(\"\\nis a pangram\")\n",
        "else:\n",
        " print('\"'+sentence+'\"')\n",
        " print(\"\\nis not a pangram\")"
      ]
    },
    {
      "cell_type": "code",
      "source": [
        "#Algoritma membuat pangram\n",
        "def create_pangram(sentence):\n",
        "    alphabet = \"abcdefghijklmnopqrstuvwxyz\"\n",
        "    used_letters = set()\n",
        "\n",
        "    for char in sentence.lower():\n",
        "        if char.isalpha() and char not in used_letters:\n",
        "            used_letters.add(char)\n",
        "\n",
        "    missing_letters = set(alphabet) - used_letters\n",
        "\n",
        "    if not missing_letters:\n",
        "        print(\"Kalimat ini sudah merupakan pangram.\")\n",
        "    else:\n",
        "        pangram = sentence + \" \" + \"\".join(sorted(missing_letters))\n",
        "        print(\"Pangram yang dibuat:\", pangram)\n",
        "\n",
        "# Contoh pangram\n",
        "input_sentence = \"The quick brown fox jumps over the lazy dog\"\n",
        "create_pangram(input_sentence)"
      ],
      "metadata": {
        "colab": {
          "base_uri": "https://localhost:8080/"
        },
        "id": "Zz4ax1EcaWJr",
        "outputId": "1293d952-da88-44ba-da70-2afca05379e4"
      },
      "execution_count": 2,
      "outputs": [
        {
          "output_type": "stream",
          "name": "stdout",
          "text": [
            "Kalimat ini sudah merupakan pangram.\n"
          ]
        }
      ]
    }
  ]
}