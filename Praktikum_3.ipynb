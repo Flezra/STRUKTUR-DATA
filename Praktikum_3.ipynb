{
  "nbformat": 4,
  "nbformat_minor": 0,
  "metadata": {
    "colab": {
      "provenance": [],
      "authorship_tag": "ABX9TyNqMl1UW3XseW6u2vI801BY",
      "include_colab_link": true
    },
    "kernelspec": {
      "name": "python3",
      "display_name": "Python 3"
    },
    "language_info": {
      "name": "python"
    }
  },
  "cells": [
    {
      "cell_type": "markdown",
      "metadata": {
        "id": "view-in-github",
        "colab_type": "text"
      },
      "source": [
        "<a href=\"https://colab.research.google.com/github/Flezra/STRUKTUR-DATA/blob/main/Praktikum_3.ipynb\" target=\"_parent\"><img src=\"https://colab.research.google.com/assets/colab-badge.svg\" alt=\"Open In Colab\"/></a>"
      ]
    },
    {
      "cell_type": "code",
      "execution_count": 1,
      "metadata": {
        "id": "3kDUjLp-Zll4",
        "outputId": "540dc10f-022d-483e-daf3-55e8bb5dbb7e",
        "colab": {
          "base_uri": "https://localhost:8080/"
        }
      },
      "outputs": [
        {
          "output_type": "stream",
          "name": "stdout",
          "text": [
            "Input: ['p', 'r', 'o', 'g', 'r', 'a', 'm', 'm', 'i', 'n', 'g']\n",
            "Output: programming\n"
          ]
        }
      ],
      "source": [
        "# Daftar karakter input\n",
        "char_list = ['p', 'r', 'o', 'g', 'r', 'a', 'm', 'm', 'i', 'n', 'g']\n",
        "\n",
        "# Mengonversi daftar karakter menjadi string\n",
        "result_string = ''.join(char_list)\n",
        "\n",
        "# Menampilkan hasil\n",
        "print(\"Input:\", char_list)\n",
        "print(\"Output:\", result_string)\n"
      ]
    }
  ]
}