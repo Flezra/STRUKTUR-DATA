{
  "nbformat": 4,
  "nbformat_minor": 0,
  "metadata": {
    "colab": {
      "provenance": [],
      "authorship_tag": "ABX9TyO9MaxZUE5DV/EbXV4dEWeH",
      "include_colab_link": true
    },
    "kernelspec": {
      "name": "python3",
      "display_name": "Python 3"
    },
    "language_info": {
      "name": "python"
    }
  },
  "cells": [
    {
      "cell_type": "markdown",
      "metadata": {
        "id": "view-in-github",
        "colab_type": "text"
      },
      "source": [
        "<a href=\"https://colab.research.google.com/github/Flezra/STRUKTUR-DATA/blob/main/Sort1_G_211_22_0002.ipynb\" target=\"_parent\"><img src=\"https://colab.research.google.com/assets/colab-badge.svg\" alt=\"Open In Colab\"/></a>"
      ]
    },
    {
      "cell_type": "code",
      "execution_count": null,
      "metadata": {
        "id": "BNh-iruhbQHd"
      },
      "outputs": [],
      "source": [
        "#Bubble sort\n",
        "def bubbleSort(arr):\n",
        "    n = len(arr)\n",
        "\n",
        "    for i in range(n-1):\n",
        "        swapped = False\n",
        "\n",
        "        for j in range(0, n-i-1):\n",
        "            if arr[j] > arr[j + 1]:\n",
        "                arr[j], arr[j + 1] = arr[j + 1], arr[j]\n",
        "                swapped = True\n",
        "\n",
        "        if not swapped:\n",
        "            break\n",
        "\n",
        "# Driver code to test Bubble Sort\n",
        "arr_bubble = [64, 34, 25, 12, 22, 11, 90]\n",
        "bubbleSort(arr_bubble)\n",
        "print(\"Bubble Sort - Sorted array is:\", arr_bubble)\n"
      ]
    },
    {
      "cell_type": "code",
      "source": [
        "#Selection sort\n",
        "def selectionSort(arr):\n",
        "    n = len(arr)\n",
        "\n",
        "    for i in range(n):\n",
        "        min_index = i\n",
        "\n",
        "        for j in range(i+1, n):\n",
        "            if arr[j] < arr[min_index]:\n",
        "                min_index = j\n",
        "\n",
        "        arr[i], arr[min_index] = arr[min_index], arr[i]\n",
        "\n",
        "# Driver code to test Selection Sort\n",
        "arr_selection = [64, 34, 25, 12, 22, 11, 90]\n",
        "selectionSort(arr_selection)\n",
        "print(\"Selection Sort - Sorted array is:\", arr_selection)\n"
      ],
      "metadata": {
        "id": "EQhju2tEbaUc"
      },
      "execution_count": null,
      "outputs": []
    },
    {
      "cell_type": "code",
      "source": [
        "#Insertion Sort\n",
        "def insertionSort(arr):\n",
        "    for i in range(1, len(arr)):\n",
        "        key = arr[i]\n",
        "        j = i - 1\n",
        "\n",
        "        while j >= 0 and key < arr[j]:\n",
        "            arr[j + 1] = arr[j]\n",
        "            j -= 1\n",
        "\n",
        "        arr[j + 1] = key\n",
        "\n",
        "# Driver code to test Insertion Sort\n",
        "arr_insertion = [64, 34, 25, 12, 22, 11, 90]\n",
        "insertionSort(arr_insertion)\n",
        "print(\"Insertion Sort - Sorted array is:\", arr_insertion)\n"
      ],
      "metadata": {
        "id": "a0iIj5G0bglM"
      },
      "execution_count": null,
      "outputs": []
    }
  ]
}