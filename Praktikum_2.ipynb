{
  "nbformat": 4,
  "nbformat_minor": 0,
  "metadata": {
    "colab": {
      "provenance": []
    },
    "kernelspec": {
      "name": "python3",
      "display_name": "Python 3"
    },
    "language_info": {
      "name": "python"
    }
  },
  "cells": [
    {
      "cell_type": "code",
      "execution_count": 2,
      "metadata": {
        "colab": {
          "base_uri": "https://localhost:8080/"
        },
        "id": "DR0QwKfTTkOr",
        "outputId": "16c75f18-23c9-4974-9bbf-fe09903a497a"
      },
      "outputs": [
        {
          "output_type": "stream",
          "name": "stdout",
          "text": [
            "Elemen kedua: 2\n",
            "Elemen terakhir: c\n",
            "1\n",
            "2\n",
            "3\n",
            "a\n",
            "b\n",
            "c\n"
          ]
        }
      ],
      "source": [
        "# Membuat Tuple\n",
        "my_tuple = (1, 2, 3, 'a', 'b', 'c')\n",
        "\n",
        "# Mengakses elemen Tuple\n",
        "print(\"Elemen kedua:\", my_tuple[1])\n",
        "print(\"Elemen terakhir:\", my_tuple[-1])\n",
        "\n",
        "# Iterasi melalui Tuple\n",
        "for item in my_tuple:\n",
        "    print(item)\n"
      ]
    },
    {
      "cell_type": "code",
      "source": [
        "# Membuat Dictionary\n",
        "my_dict = {'nama': 'Ezra', 'umur': 19, 'pekerjaan': 'Manajer'}\n",
        "\n",
        "# Mengakses nilai dengan kunci\n",
        "print(\"Nama:\", my_dict['nama'])\n",
        "print(\"Umur:\", my_dict['umur'])\n",
        "\n",
        "# Mengubah nilai\n",
        "my_dict['umur'] = 20\n",
        "\n",
        "# Menambahkan pasangan kunci-nilai baru\n",
        "my_dict['lokasi'] = 'Surabaya'\n",
        "\n",
        "# Iterasi melalui kunci dan nilai\n",
        "for key, value in my_dict.items():\n",
        "    print(key, \":\", value)\n"
      ],
      "metadata": {
        "colab": {
          "base_uri": "https://localhost:8080/"
        },
        "id": "RK8BcDOMUIrl",
        "outputId": "7a8a3363-23ca-4f82-c440-f69c443fb571"
      },
      "execution_count": 5,
      "outputs": [
        {
          "output_type": "stream",
          "name": "stdout",
          "text": [
            "Nama: Ezra\n",
            "Umur: 19\n",
            "nama : Ezra\n",
            "umur : 20\n",
            "pekerjaan : Manajer\n",
            "lokasi : Surabaya\n"
          ]
        }
      ]
    },
    {
      "cell_type": "code",
      "source": [
        "# Membuat Dictionary\n",
        "my_dict = {'nama': 'John', 'umur': 25, 'pekerjaan': 'insinyur'}\n",
        "\n",
        "# Mengakses nilai dengan kunci\n",
        "print(\"Nama:\", my_dict['nama'])\n",
        "print(\"Umur:\", my_dict['umur'])\n",
        "\n",
        "# Mengubah nilai\n",
        "my_dict['umur'] = 26\n",
        "\n",
        "# Menambahkan pasangan kunci-nilai baru\n",
        "my_dict['lokasi'] = 'Jakarta'\n",
        "\n",
        "# Iterasi melalui kunci dan nilai\n",
        "for key, value in my_dict.items():\n",
        "    print(key, \":\", value)\n"
      ],
      "metadata": {
        "colab": {
          "base_uri": "https://localhost:8080/"
        },
        "id": "kVqRRf8XUzrp",
        "outputId": "7b30f2cd-0c76-4a66-ef06-ca70d3b69abf"
      },
      "execution_count": 4,
      "outputs": [
        {
          "output_type": "stream",
          "name": "stdout",
          "text": [
            "Nama: John\n",
            "Umur: 25\n",
            "nama : John\n",
            "umur : 26\n",
            "pekerjaan : insinyur\n",
            "lokasi : Jakarta\n"
          ]
        }
      ]
    }
  ]
}